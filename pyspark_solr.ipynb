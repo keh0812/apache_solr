{
 "cells": [
  {
   "cell_type": "code",
   "execution_count": null,
   "metadata": {},
   "outputs": [],
   "source": [
    "# 스파크 스트리밍으로 카프카 데이터 읽어오기\n",
    "topic_name = “csvsolr\"\n",
    "\n",
    "df = spark \\\n",
    "  .read \\\n",
    "  .format(\"kafka\") \\\n",
    "  .option(\"kafka.bootstrap.servers\", \"192.168.137.101:9092,192.168.137.102:9092,192.168.137.103:9092\") \\\n",
    "  .option(\"subscribe\", topic_name) \\\n",
    "  .option(\"startingOffsets\", \"earliest\") \\\n",
    "  .load()"
   ]
  },
  {
   "cell_type": "code",
   "execution_count": null,
   "metadata": {},
   "outputs": [],
   "source": [
    "# csv string에서 df 형태로 수정 및 변환 작업\n",
    "df = df.selectExpr(\"split(value,',')[0] as url_text\" \\\n",
    "                ,\"split(value,',')[1] as date\" \\\n",
    "                ,\"split(value,',')[2] as pressname\" \\\n",
    "                ,\"split(value,',')[3] as writer_name\" \\\n",
    "                ,\"split(value,',')[4] as cate_1\" \\\n",
    "                ,\"split(value,',')[5] as cate_2\" \\\n",
    "                ,\"split(value,',')[6] as cate_3\")"
   ]
  },
  {
   "cell_type": "code",
   "execution_count": null,
   "metadata": {},
   "outputs": [],
   "source": [
    "#커스텀 스키마 생성\n",
    "schema = StructType() \\\n",
    "         .add(\"url_text\", \"string\") \\\n",
    "         .add(\"date\",\"string\") \\\n",
    "         .add(\"pressname\",\"string\") \\\n",
    "         .add(\"writer_name\",\"string\") \\\n",
    "         .add(\"cate_1\",\"string\") \\\n",
    "         .add(\"cate_2\",\"string\") \\\n",
    "         .add(\"cate_3\",\"string\")"
   ]
  },
  {
   "cell_type": "code",
   "execution_count": null,
   "metadata": {},
   "outputs": [],
   "source": [
    "# Solr 내 생성된 collection에 데이터 입력\n",
    "\n",
    "df.write \\\n",
    "      .format(\"solr\") \\\n",
    "      .option(\"zkhost\", \"192.168.137.101:2181,192.168.137.102:2181,192.168.137.103:2181\") \\\n",
    "      .option(\"collection\", \"test-collection\") \\\n",
    "      .save()"
   ]
  }
 ],
 "metadata": {
  "language_info": {
   "name": "python"
  },
  "orig_nbformat": 4
 },
 "nbformat": 4,
 "nbformat_minor": 2
}
